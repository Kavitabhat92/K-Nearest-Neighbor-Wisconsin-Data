{
 "cells": [
  {
   "cell_type": "markdown",
   "metadata": {},
   "source": [
    "# Implementing Statistical Distributions"
   ]
  },
  {
   "cell_type": "markdown",
   "metadata": {},
   "source": [
    "# Normal distribution"
   ]
  },
  {
   "cell_type": "markdown",
   "metadata": {},
   "source": [
    "https://docs.scipy.org/doc/scipy/reference/generated/scipy.stats.norm.html#scipy.stats.norm\n",
    "\n",
    "\n",
    "\n",
    "Normal Distributions are the most common distributions in statistics primarily because they describe a lot of natural phenomena. Normal distributions are also known as ‘Gaussian distributions’ or ‘bell curve’, because of the bell shaped curve."
   ]
  },
  {
   "cell_type": "code",
   "execution_count": 1,
   "metadata": {
    "collapsed": true
   },
   "outputs": [],
   "source": [
    "from scipy.stats import norm,expon,bernoulli\n",
    "import matplotlib.pyplot as plt\n",
    "import numpy as np"
   ]
  },
  {
   "cell_type": "code",
   "execution_count": 2,
   "metadata": {
    "collapsed": true
   },
   "outputs": [],
   "source": [
    "# Generate an array of 200 random sample from a normal dist with \n",
    "# mean 0 and stdv 1\n",
    "random_sample = norm.rvs(loc=0,scale=1,size=200) \n"
   ]
  },
  {
   "cell_type": "code",
   "execution_count": 3,
   "metadata": {
    "collapsed": true
   },
   "outputs": [],
   "source": [
    "# Distribution fitting\n",
    "# norm.fit(data) returns a list of two parameters \n",
    "# (mean, parameters[0] and std, parameters[1]) via a MLE approach \n",
    "# to data, which should be in array form.\n",
    "parameters = norm.fit(random_sample)\n"
   ]
  },
  {
   "cell_type": "code",
   "execution_count": 4,
   "metadata": {
    "collapsed": true
   },
   "outputs": [],
   "source": [
    "# now, parameters[0] and parameters[1] are the mean and \n",
    "# the standard deviation of the fitted distribution\n",
    "x = np.linspace(-5,5,100)"
   ]
  },
  {
   "cell_type": "code",
   "execution_count": 5,
   "metadata": {
    "collapsed": true
   },
   "outputs": [],
   "source": [
    "# Generate the pdf (fitted distribution)\n",
    "fitted_pdf = norm.pdf(x,loc = parameters[0],scale = parameters[1])\n",
    "# Generate the pdf (normal distribution non fitted)\n",
    "normal_pdf = norm.pdf(x)"
   ]
  },
  {
   "cell_type": "code",
   "execution_count": 6,
   "metadata": {},
   "outputs": [
    {
     "data": {
      "text/plain": [
       "<matplotlib.legend.Legend at 0x1f680c70208>"
      ]
     },
     "execution_count": 6,
     "metadata": {},
     "output_type": "execute_result"
    }
   ],
   "source": [
    "# Type help(plot) for a ton of information on pyplot\n",
    "plt.plot(x,fitted_pdf,\"red\",label=\"Fitted normal dist\",linestyle=\"dashed\", linewidth=2)\n",
    "plt.plot(x,normal_pdf,\"blue\",label=\"Normal dist\", linewidth=2)\n",
    "plt.hist(random_sample,normed=1,color=\"cyan\",alpha=.3) #alpha, from 0 (transparent) to 1 (opaque)\n",
    "plt.title(\"Normal distribution fitting\")\n",
    "# insert a legend in the plot (using label)\n",
    "plt.legend()"
   ]
  },
  {
   "cell_type": "code",
   "execution_count": 7,
   "metadata": {},
   "outputs": [
    {
     "data": {
      "image/png": "[encoded data removed]",
      "text/plain": [
       "<matplotlib.figure.Figure at 0x1f680838f28>"
      ]
     },
     "metadata": {},
     "output_type": "display_data"
    }
   ],
   "source": [
    "# we finally show our work\n",
    "plt.show()"
   ]
  },
  {
   "cell_type": "markdown",
   "metadata": {},
   "source": [
    "Displaying the histogram with the normal distribution and the fitted normal distribution curve with sample size of 200"
   ]
  },
  {
   "cell_type": "code",
   "execution_count": 8,
   "metadata": {},
   "outputs": [
    {
     "data": {
      "text/plain": [
       "True"
      ]
     },
     "execution_count": 8,
     "metadata": {},
     "output_type": "execute_result"
    }
   ],
   "source": [
    "#Check accuracy of cdf and ppf:\n",
    "    \n",
    "vals = norm.ppf([0.001, 0.5, 0.999])\n",
    "np.allclose([0.001, 0.5, 0.999], norm.cdf(vals))"
   ]
  },
  {
   "cell_type": "markdown",
   "metadata": {},
   "source": [
    "** Since the above value is true, our model accuracy is high **"
   ]
  },
  {
   "cell_type": "markdown",
   "metadata": {},
   "source": [
    "# Exponential Distribution"
   ]
  },
  {
   "cell_type": "markdown",
   "metadata": {},
   "source": [
    "https://docs.scipy.org/doc/scipy/reference/generated/scipy.stats.expon.html#scipy.stats.expon\n",
    "\n",
    "\n",
    "\n",
    "A continuous random variable zz is said to be exponentially distributed with rate λ>0λ>0 (written as z∼E(λ)z∼E(λ)) if its probability density function is given by\n",
    "\n",
    "pz(z)=λe^-λz if z≥0 and pz(z)=0 if z<0\n"
   ]
  },
  {
   "cell_type": "code",
   "execution_count": 9,
   "metadata": {
    "collapsed": true
   },
   "outputs": [],
   "source": [
    "# Generate an array of 200 random sample from a normal dist with \n",
    "# mean 0 and stdv 1\n",
    "random_sample2= expon.rvs(loc=0, scale=1, size=100)"
   ]
  },
  {
   "cell_type": "code",
   "execution_count": 10,
   "metadata": {
    "collapsed": true
   },
   "outputs": [],
   "source": [
    "# Distribution fitting\n",
    "# norm.fit(data) returns a list of two parameters \n",
    "# (mean, parameters[0] and std, parameters[1]) via a MLE approach \n",
    "# to data, which should be in array form.\n",
    "parameters2 = expon.fit(random_sample2, loc=0, scale=1)"
   ]
  },
  {
   "cell_type": "code",
   "execution_count": 11,
   "metadata": {
    "collapsed": true
   },
   "outputs": [],
   "source": [
    "# now, parameters[0] and parameters[1] are the mean and \n",
    "# the standard deviation of the fitted distribution\n",
    "x = np.linspace(-4,4,100)"
   ]
  },
  {
   "cell_type": "code",
   "execution_count": 12,
   "metadata": {
    "collapsed": true
   },
   "outputs": [],
   "source": [
    "# Generate the pdf (fitted distribution)\n",
    "fitted_pdf_expon = expon.pdf(x,loc = parameters2[0],scale = parameters2[1])\n",
    "# Generate the pdf (exponential distribution non fitted)\n",
    "exponential_pdf = expon.pdf(x)"
   ]
  },
  {
   "cell_type": "code",
   "execution_count": 13,
   "metadata": {},
   "outputs": [
    {
     "data": {
      "text/plain": [
       "<matplotlib.legend.Legend at 0x1f680d957b8>"
      ]
     },
     "execution_count": 13,
     "metadata": {},
     "output_type": "execute_result"
    }
   ],
   "source": [
    "# Type help(plot) for a ton of information on pyplot\n",
    "plt.plot(x,fitted_pdf_expon,\"red\",label=\"Fitted Exponential dist\",linestyle=\"dashed\", linewidth=2)\n",
    "plt.plot(x,exponential_pdf,\"blue\",label=\"Exponential dist\", linewidth=2)\n",
    "plt.hist(random_sample,normed=1,color=\"cyan\",alpha=.3) #alpha, from 0 (transparent) to 1 (opaque)\n",
    "plt.title(\"Exponential distribution fitting\")\n",
    "# insert a legend in the plot (using label)\n",
    "plt.legend()"
   ]
  },
  {
   "cell_type": "code",
   "execution_count": 14,
   "metadata": {},
   "outputs": [
    {
     "data": {
      "image/png": "[encoded data removed]",
      "text/plain": [
       "<matplotlib.figure.Figure at 0x1f680c7d908>"
      ]
     },
     "metadata": {},
     "output_type": "display_data"
    }
   ],
   "source": [
    "plt.show()"
   ]
  },
  {
   "cell_type": "markdown",
   "metadata": {},
   "source": [
    "Displaying the histogram with the exponential distribution and the fitted exponential distribution curve with sample size of 100"
   ]
  },
  {
   "cell_type": "code",
   "execution_count": 15,
   "metadata": {},
   "outputs": [
    {
     "data": {
      "text/plain": [
       "True"
      ]
     },
     "execution_count": 15,
     "metadata": {},
     "output_type": "execute_result"
    }
   ],
   "source": [
    "#Check accuracy of cdf and ppf\n",
    "\n",
    "vals = expon.ppf([0.001, 0.5, 0.999])\n",
    "np.allclose([0.001, 0.5, 0.999], expon.cdf(vals))"
   ]
  },
  {
   "cell_type": "markdown",
   "metadata": {},
   "source": [
    "** Since the above value is true, our model accuracy is high **"
   ]
  },
  {
   "cell_type": "markdown",
   "metadata": {},
   "source": [
    "# Bernoulli Distribution"
   ]
  },
  {
   "cell_type": "markdown",
   "metadata": {},
   "source": [
    "https://docs.scipy.org/doc/scipy-0.13.0/reference/generated/scipy.stats.bernoulli.html\n",
    "\n",
    "\n",
    "The Bernoulli distribution is a discrete distribution having two possible outcomes labelled by n=0 and n=1 in which n=1 (\"success\") occurs with probability  p and n=0 (\"failure\") occurs with probability q=1-p, where 0<p<1. "
   ]
  },
  {
   "cell_type": "code",
   "execution_count": 16,
   "metadata": {
    "collapsed": true
   },
   "outputs": [],
   "source": [
    "#bernoulli takes p as shape parameter.\n",
    "p = 0.3\n",
    "mean, var, skew, kurt = bernoulli.stats(p, moments='mvsk')\n",
    "\n",
    "random_sample3= bernoulli.rvs(p, loc=0, size=100)"
   ]
  },
  {
   "cell_type": "code",
   "execution_count": 17,
   "metadata": {
    "collapsed": true
   },
   "outputs": [],
   "source": [
    "#Display the probability mass function (pmf):\n",
    "\n",
    "x = np.arange(bernoulli.ppf(0.01, p), bernoulli.ppf(0.99, p))"
   ]
  },
  {
   "cell_type": "code",
   "execution_count": 18,
   "metadata": {},
   "outputs": [
    {
     "data": {
      "image/png": "[encoded data removed]",
      "text/plain": [
       "<matplotlib.figure.Figure at 0x1f680d520b8>"
      ]
     },
     "metadata": {},
     "output_type": "display_data"
    }
   ],
   "source": [
    "rv = bernoulli(p)\n",
    "plt.plot(x, bernoulli.pmf(x, p), 'bo', ms=8, label='bernoulli pmf')\n",
    "plt.vlines(x, 0, bernoulli.pmf(x, p), colors='b', lw=5, alpha=0.5)\n",
    "#Alternatively, the distribution object can be called (as a function) to fix the shape and location. This returns a “frozen” RV object holding the given parameters fixed.\n",
    "#Freeze the distribution and display the frozen pmf:\n",
    "plt.vlines(x, 0, rv.pmf(x), colors='k', linestyles='-', lw=1, label='frozen pmf')\n",
    "plt.legend(loc='best', frameon=False)\n",
    "plt.show()"
   ]
  },
  {
   "cell_type": "code",
   "execution_count": 19,
   "metadata": {},
   "outputs": [
    {
     "data": {
      "text/plain": [
       "True"
      ]
     },
     "execution_count": 19,
     "metadata": {},
     "output_type": "execute_result"
    }
   ],
   "source": [
    "#Check the accuracy of the distribution\n",
    "\n",
    "prob = bernoulli.cdf(x,p)\n",
    "\n",
    "np.allclose(x, bernoulli.ppf(prob,p))"
   ]
  },
  {
   "cell_type": "markdown",
   "metadata": {},
   "source": [
    "** Since the above value is true, our model accuracy is high **"
   ]
  }
 ],
 "metadata": {
  "kernelspec": {
   "display_name": "Python 3",
   "language": "python",
   "name": "python3"
  },
  "language_info": {
   "codemirror_mode": {
    "name": "ipython",
    "version": 3
   },
   "file_extension": ".py",
   "mimetype": "text/x-python",
   "name": "python",
   "nbconvert_exporter": "python",
   "pygments_lexer": "ipython3",
   "version": "3.6.1"
  }
 },
 "nbformat": 4,
 "nbformat_minor": 2
}
