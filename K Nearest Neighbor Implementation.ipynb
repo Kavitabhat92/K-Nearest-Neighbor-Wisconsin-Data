{
 "cells": [
  {
   "cell_type": "markdown",
   "metadata": {},
   "source": [
    "# Implementing KNN"
   ]
  },
  {
   "cell_type": "markdown",
   "metadata": {},
   "source": [
    "\n",
    "\n",
    "\n",
    "\n",
    "\n",
    "https://archive.ics.uci.edu/ml/datasets/Breast+Cancer+Wisconsin+%28Original%29\n",
    "\n",
    "\n",
    "http://scikit-learn.org/stable/modules/generated/sklearn.cross_validation.train_test_split.html\n",
    "\n",
    "\n",
    "http://scikit-learn.org/stable/modules/generated/sklearn.neighbors.KNeighborsClassifier.html\n",
    "\n",
    "\n",
    "https://en.wikipedia.org/wiki/K-nearest_neighbor_algorithm"
   ]
  },
  {
   "cell_type": "code",
   "execution_count": 16,
   "metadata": {
    "collapsed": true
   },
   "outputs": [],
   "source": [
    "import numpy as np\n",
    "import pandas as pd\n",
    "\n",
    "from sklearn import preprocessing,cross_validation,neighbors\n",
    "from sklearn import metrics\n",
    "import matplotlib.pyplot as plt\n"
   ]
  },
  {
   "cell_type": "code",
   "execution_count": 17,
   "metadata": {
    "collapsed": true
   },
   "outputs": [],
   "source": [
    "url = 'D:/MIT/Semester2/Machine Learning/breast-cancer-wisconsin.data'\n",
    "\n",
    "cancer_df = pd.read_csv(url) \n",
    "\n",
    "#we know from breast-cancer-wisconsin.names that 'Missing attribute values: 16'\n",
    "#need to replace '?' with a nominated value which will not crash and can be filtered out.\n",
    "#makes the missing data a huge outlier\n",
    "\n",
    "cancer_df.replace('?',-9999, inplace = True)"
   ]
  },
  {
   "cell_type": "code",
   "execution_count": 18,
   "metadata": {
    "collapsed": true
   },
   "outputs": [],
   "source": [
    "#drop the id column as it does not aid prediction in any way. \n",
    "#dropping the 'id' column improves the accuracy. id values do not add value to prediction.\n",
    "\n",
    "cancer_df.drop(['id'], 1, inplace = True)"
   ]
  },
  {
   "cell_type": "code",
   "execution_count": 19,
   "metadata": {
    "collapsed": true
   },
   "outputs": [],
   "source": [
    "#drop the 'class' column from X as we will be predicting 'class'\n",
    "X = np.array(cancer_df.drop(['class'],1))\n",
    "\n",
    "#use 'class' column for y as this is the column we want to predict.\n",
    "y = np.array(cancer_df['class'])"
   ]
  },
  {
   "cell_type": "code",
   "execution_count": 20,
   "metadata": {
    "collapsed": true
   },
   "outputs": [],
   "source": [
    "parameter_columns = ['clump_thickness','unif_cell_size','unif_shell_shape','marg_adhesion','single_epith_cell_size','bare_nuclei','cland_chrom','norm_nucleoli','mitoses']\n",
    "X = cancer_df[parameter_columns].values\n",
    "y = cancer_df['class'].values"
   ]
  },
  {
   "cell_type": "code",
   "execution_count": 21,
   "metadata": {
    "collapsed": true
   },
   "outputs": [],
   "source": [
    "from sklearn.preprocessing import LabelEncoder\n",
    "le = LabelEncoder()\n",
    "y = le.fit_transform(y)"
   ]
  },
  {
   "cell_type": "markdown",
   "metadata": {},
   "source": [
    "# Splitting the data in train and test data "
   ]
  },
  {
   "cell_type": "code",
   "execution_count": 22,
   "metadata": {
    "collapsed": true
   },
   "outputs": [],
   "source": [
    "#split X into train/test data sets.\n",
    "\n",
    "X_train, X_test, y_train, y_test =  cross_validation.train_test_split(X, y, test_size = .2)"
   ]
  },
  {
   "cell_type": "markdown",
   "metadata": {},
   "source": [
    "# Building and training the model with training data"
   ]
  },
  {
   "cell_type": "code",
   "execution_count": 23,
   "metadata": {},
   "outputs": [
    {
     "data": {
      "text/plain": [
       "KNeighborsClassifier(algorithm='auto', leaf_size=30, metric='minkowski',\n",
       "           metric_params=None, n_jobs=1, n_neighbors=5, p=2,\n",
       "           weights='uniform')"
      ]
     },
     "execution_count": 23,
     "metadata": {},
     "output_type": "execute_result"
    }
   ],
   "source": [
    "#Classifier implementing the k-nearest neighbors\n",
    "clf = neighbors.KNeighborsClassifier()\n",
    "\n",
    "#Fit the model using X as training data and y as target value\n",
    "clf.fit(X_train, y_train)"
   ]
  },
  {
   "cell_type": "code",
   "execution_count": 24,
   "metadata": {},
   "outputs": [
    {
     "name": "stdout",
     "output_type": "stream",
     "text": [
      "Accuracy =  0.992857142857\n"
     ]
    }
   ],
   "source": [
    "#Returns the mean accuracy on the given test data and labels\n",
    "accuracy = clf.score(X_test, y_test)\n",
    "\n",
    "print(\"Accuracy = \", accuracy)"
   ]
  },
  {
   "cell_type": "code",
   "execution_count": 25,
   "metadata": {},
   "outputs": [
    {
     "name": "stdout",
     "output_type": "stream",
     "text": [
      "             precision    recall  f1-score   support\n",
      "\n",
      "          0       1.00      0.99      0.99        91\n",
      "          1       0.98      1.00      0.99        49\n",
      "\n",
      "avg / total       0.99      0.99      0.99       140\n",
      "\n"
     ]
    }
   ],
   "source": [
    "y_expect = y_test\n",
    "\n",
    "#predict the class labels X for the provided data\n",
    "prediction = clf.predict(X_test)\n",
    "\n",
    "print(metrics.classification_report(y_expect,prediction))\n"
   ]
  },
  {
   "cell_type": "markdown",
   "metadata": {},
   "source": [
    "Recall refers to the completeness of the model, which means that the classification has 98 % true positives"
   ]
  },
  {
   "cell_type": "code",
   "execution_count": 26,
   "metadata": {},
   "outputs": [
    {
     "name": "stdout",
     "output_type": "stream",
     "text": [
      "   clump_thickness  unif_cell_size  unif_shell_shape  marg_adhesion  \\\n",
      "0                5               1                 1              1   \n",
      "1                5               4                 4              5   \n",
      "2                3               1                 1              1   \n",
      "3                6               8                 8              1   \n",
      "4                4               1                 1              3   \n",
      "\n",
      "   single_epith_cell_size bare_nuclei  cland_chrom  norm_nucleoli  mitoses  \\\n",
      "0                       2           1            3              1        1   \n",
      "1                       7          10            3              2        1   \n",
      "2                       2           2            3              1        1   \n",
      "3                       3           4            3              7        1   \n",
      "4                       2           1            3              1        1   \n",
      "\n",
      "   class  \n",
      "0      2  \n",
      "1      2  \n",
      "2      2  \n",
      "3      2  \n",
      "4      2  \n"
     ]
    }
   ],
   "source": [
    "#the actual data of the breast cancer wisconsin exclusing the id\n",
    "\n",
    "print (cancer_df.head())"
   ]
  },
  {
   "cell_type": "markdown",
   "metadata": {},
   "source": [
    "# Finding the best number of neighbors"
   ]
  },
  {
   "cell_type": "code",
   "execution_count": 27,
   "metadata": {
    "collapsed": true
   },
   "outputs": [],
   "source": [
    "from sklearn.neighbors import KNeighborsClassifier\n",
    "from sklearn.metrics import confusion_matrix, accuracy_score\n",
    "from sklearn.model_selection import cross_val_score\n",
    "\n",
    "\n",
    "# creating list of K for KNN\n",
    "k_list = list(range(1,50,2))\n",
    "# creating list of cv scores\n",
    "scores = []\n",
    "\n",
    "# perform 10-fold cross validation\n",
    "for k in k_list:\n",
    "    knn = KNeighborsClassifier(n_neighbors=k)\n",
    "    knn.fit(X_train, y_train)\n",
    "    predict = knn.predict(X_test)\n",
    "    scores.append(metrics.accuracy_score(y_test, predict))"
   ]
  },
  {
   "cell_type": "code",
   "execution_count": 28,
   "metadata": {},
   "outputs": [
    {
     "data": {
      "text/plain": [
       "<matplotlib.figure.Figure at 0x1ece7c80198>"
      ]
     },
     "metadata": {},
     "output_type": "display_data"
    },
    {
     "data": {
      "image/png": "[encoded data removed]",
      "text/plain": [
       "<matplotlib.figure.Figure at 0x1ece7c80240>"
      ]
     },
     "metadata": {},
     "output_type": "display_data"
    }
   ],
   "source": [
    "plt.figure()\n",
    "plt.figure(figsize=(10,6))\n",
    "plt.plot(k_list, scores,marker= 'o',markerfacecolor='red',markersize= 10)\n",
    "plt.xlabel('Value of K for KNN', fontsize=15)\n",
    "plt.ylabel('Testing Accuracy', fontsize=15)\n",
    "\n",
    "plt.show()"
   ]
  },
  {
   "cell_type": "code",
   "execution_count": 37,
   "metadata": {},
   "outputs": [
    {
     "name": "stdout",
     "output_type": "stream",
     "text": [
      "The optimal number of neighbors is 5.\n"
     ]
    }
   ],
   "source": [
    "# finding best k\n",
    "MSE = [1 - x for x in scores]\n",
    "\n",
    "best_k = k_list[MSE.index(min(MSE))]\n",
    "print(\"The optimal number of neighbors is %d.\" % best_k)"
   ]
  },
  {
   "cell_type": "markdown",
   "metadata": {},
   "source": [
    "# Visualization using Principal Component Analysis"
   ]
  },
  {
   "cell_type": "markdown",
   "metadata": {},
   "source": [
    "Principal component analysis (PCA) is great for finding patterns while trying to retain the variation in the data set. The artifacts of such an analysis is called principal components, which we use to try to explain as much of the variance (in the data set) as possible"
   ]
  },
  {
   "cell_type": "code",
   "execution_count": 32,
   "metadata": {
    "collapsed": true
   },
   "outputs": [],
   "source": [
    "import matplotlib.pyplot as plt\n",
    "import seaborn as sns\n",
    "from sklearn.decomposition import PCA\n",
    "from sklearn.preprocessing import StandardScaler\n",
    "import plotly\n",
    "import plotly.graph_objs as go\n",
    "\n",
    "%matplotlib inline"
   ]
  },
  {
   "cell_type": "code",
   "execution_count": 33,
   "metadata": {
    "collapsed": true
   },
   "outputs": [],
   "source": [
    "# Pre-process data to standardize the features. so that all the features are in equal in scale\n",
    "# We will use a StandardScaler and fit it to our data and transform the data.\n",
    "scaler = StandardScaler() \n",
    "scaler.fit(cancer_df)\n",
    "preprocessed_data = scaler.transform(cancer_df)"
   ]
  },
  {
   "cell_type": "code",
   "execution_count": 34,
   "metadata": {
    "collapsed": true
   },
   "outputs": [],
   "source": [
    "#break down the data to 4 dimensions – so that we can visualize it. \n",
    "pca = PCA(n_components=4)\n",
    "pca.fit(preprocessed_data)\n",
    "decomposed_data = pca.transform(preprocessed_data)"
   ]
  },
  {
   "cell_type": "code",
   "execution_count": 35,
   "metadata": {},
   "outputs": [
    {
     "data": {
      "text/html": [
       "<script>requirejs.config({paths: { 'plotly': ['https://cdn.plot.ly/plotly-latest.min']},});if(!window.Plotly) {{require(['plotly'],function(plotly) {window.Plotly=plotly;});}}</script>"
      ],
      "text/vnd.plotly.v1+html": [
       "<script>requirejs.config({paths: { 'plotly': ['https://cdn.plot.ly/plotly-latest.min']},});if(!window.Plotly) {{require(['plotly'],function(plotly) {window.Plotly=plotly;});}}</script>"
      ]
     },
     "metadata": {},
     "output_type": "display_data"
    },
    {
     "data": {
      "application/vnd.plotly.v1+json": {
       "data": [
        {
         "colorscale": "Viridis",
         "type": "heatmap",
         "x": [
          "clump_thickness",
          "unif_cell_size",
          "unif_shell_shape",
          "marg_adhesion",
          "single_epith_cell_size",
          "bare_nuclei",
          "cland_chrom",
          "norm_nucleoli",
          "mitoses"
         ],
         "y": [
          "PC 1",
          "PC 2",
          "PC 3",
          "PC 4"
         ],
         "z": [
          [
           0.3011804697806467,
           0.37666381738801685,
           0.37208400761976157,
           0.32394097689547147,
           0.3312997702492759,
           0.024215856119975485,
           0.33979819085227675,
           0.3329728079162545,
           0.22687097634549117,
           0.36861950758756884
          ],
          [
           -0.029148263686405357,
           0.029600999851281895,
           0.050131679164092155,
           -0.010601129707104156,
           -0.019078850375271177,
           -0.9889253194627591,
           0.056714876346570055,
           0.06510383691223387,
           -0.09790874019873995,
           -0.016434479968245798
          ],
          [
           -0.193253508741121,
           -0.06754082289052787,
           -0.09537923544999094,
           -0.006370942106112404,
           0.1506899302884466,
           -0.1048992147175071,
           -0.22450520277497826,
           0.0012665085962633778,
           0.9164487396000688,
           -0.15798654491402706
          ],
          [
           0.8226541336027946,
           -0.050630572000761806,
           0.005276254237459822,
           -0.43135787681924853,
           -0.14143645656444984,
           -0.05777730942273184,
           -0.22371878612035315,
           -0.14643211967132438,
           0.15164392537684607,
           0.12941574527230074
          ]
         ]
        }
       ],
       "layout": {}
      },
      "text/html": [
       "<div id=\"0ff89e02-388e-4b4f-a11f-ece59f600c51\" style=\"height: 525px; width: 100%;\" class=\"plotly-graph-div\"></div><script type=\"text/javascript\">require([\"plotly\"], function(Plotly) { window.PLOTLYENV=window.PLOTLYENV || {};window.PLOTLYENV.BASE_URL=\"https://plot.ly\";Plotly.newPlot(\"0ff89e02-388e-4b4f-a11f-ece59f600c51\", [{\"type\": \"heatmap\", \"z\": [[0.3011804697806467, 0.37666381738801685, 0.37208400761976157, 0.32394097689547147, 0.3312997702492759, 0.024215856119975485, 0.33979819085227675, 0.3329728079162545, 0.22687097634549117, 0.36861950758756884], [-0.029148263686405357, 0.029600999851281895, 0.050131679164092155, -0.010601129707104156, -0.019078850375271177, -0.9889253194627591, 0.056714876346570055, 0.06510383691223387, -0.09790874019873995, -0.016434479968245798], [-0.193253508741121, -0.06754082289052787, -0.09537923544999094, -0.006370942106112404, 0.1506899302884466, -0.1048992147175071, -0.22450520277497826, 0.0012665085962633778, 0.9164487396000688, -0.15798654491402706], [0.8226541336027946, -0.050630572000761806, 0.005276254237459822, -0.43135787681924853, -0.14143645656444984, -0.05777730942273184, -0.22371878612035315, -0.14643211967132438, 0.15164392537684607, 0.12941574527230074]], \"x\": [\"clump_thickness\", \"unif_cell_size\", \"unif_shell_shape\", \"marg_adhesion\", \"single_epith_cell_size\", \"bare_nuclei\", \"cland_chrom\", \"norm_nucleoli\", \"mitoses\"], \"y\": [\"PC 1\", \"PC 2\", \"PC 3\", \"PC 4\"], \"colorscale\": \"Viridis\"}], {}, {\"showLink\": true, \"linkText\": \"Export to plot.ly\"})});</script>"
      ],
      "text/vnd.plotly.v1+html": [
       "<div id=\"0ff89e02-388e-4b4f-a11f-ece59f600c51\" style=\"height: 525px; width: 100%;\" class=\"plotly-graph-div\"></div><script type=\"text/javascript\">require([\"plotly\"], function(Plotly) { window.PLOTLYENV=window.PLOTLYENV || {};window.PLOTLYENV.BASE_URL=\"https://plot.ly\";Plotly.newPlot(\"0ff89e02-388e-4b4f-a11f-ece59f600c51\", [{\"type\": \"heatmap\", \"z\": [[0.3011804697806467, 0.37666381738801685, 0.37208400761976157, 0.32394097689547147, 0.3312997702492759, 0.024215856119975485, 0.33979819085227675, 0.3329728079162545, 0.22687097634549117, 0.36861950758756884], [-0.029148263686405357, 0.029600999851281895, 0.050131679164092155, -0.010601129707104156, -0.019078850375271177, -0.9889253194627591, 0.056714876346570055, 0.06510383691223387, -0.09790874019873995, -0.016434479968245798], [-0.193253508741121, -0.06754082289052787, -0.09537923544999094, -0.006370942106112404, 0.1506899302884466, -0.1048992147175071, -0.22450520277497826, 0.0012665085962633778, 0.9164487396000688, -0.15798654491402706], [0.8226541336027946, -0.050630572000761806, 0.005276254237459822, -0.43135787681924853, -0.14143645656444984, -0.05777730942273184, -0.22371878612035315, -0.14643211967132438, 0.15164392537684607, 0.12941574527230074]], \"x\": [\"clump_thickness\", \"unif_cell_size\", \"unif_shell_shape\", \"marg_adhesion\", \"single_epith_cell_size\", \"bare_nuclei\", \"cland_chrom\", \"norm_nucleoli\", \"mitoses\"], \"y\": [\"PC 1\", \"PC 2\", \"PC 3\", \"PC 4\"], \"colorscale\": \"Viridis\"}], {}, {\"showLink\": true, \"linkText\": \"Export to plot.ly\"})});</script>"
      ]
     },
     "metadata": {},
     "output_type": "display_data"
    }
   ],
   "source": [
    "# to see how each feature correlates with each principal component, we can visualize it using a heat map\n",
    "plotly.offline.init_notebook_mode(connected=True)\n",
    "\n",
    "data = go.Heatmap(z=pca.components_, \n",
    "                  x=parameter_columns, \n",
    "                  y=['PC 1', 'PC 2', 'PC 3','PC 4'], \n",
    "                  colorscale='Viridis')\n",
    " \n",
    "# Plot heatmap.\n",
    "plotly.offline.iplot([data], filename='heatmap')"
   ]
  },
  {
   "cell_type": "code",
   "execution_count": null,
   "metadata": {
    "collapsed": true
   },
   "outputs": [],
   "source": []
  }
 ],
 "metadata": {
  "kernelspec": {
   "display_name": "Python 3",
   "language": "python",
   "name": "python3"
  },
  "language_info": {
   "codemirror_mode": {
    "name": "ipython",
    "version": 3
   },
   "file_extension": ".py",
   "mimetype": "text/x-python",
   "name": "python",
   "nbconvert_exporter": "python",
   "pygments_lexer": "ipython3",
   "version": "3.6.1"
  }
 },
 "nbformat": 4,
 "nbformat_minor": 2
}
